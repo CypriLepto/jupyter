{
  "nbformat": 4,
  "nbformat_minor": 0,
  "metadata": {
    "colab": {
      "provenance": [],
      "authorship_tag": "ABX9TyPqlEIlDiSA6Q3R0agbYqlT",
      "include_colab_link": true
    },
    "kernelspec": {
      "name": "python3",
      "display_name": "Python 3"
    },
    "language_info": {
      "name": "python"
    }
  },
  "cells": [
    {
      "cell_type": "markdown",
      "metadata": {
        "id": "view-in-github",
        "colab_type": "text"
      },
      "source": [
        "<a href=\"https://colab.research.google.com/github/CypriLepto/jupyter/blob/master/GitHubCypriPrb_230108.ipynb\" target=\"_parent\"><img src=\"https://colab.research.google.com/assets/colab-badge.svg\" alt=\"Open In Colab\"/></a>"
      ]
    },
    {
      "cell_type": "code",
      "execution_count": 1,
      "metadata": {
        "id": "TlelSiKQKWt6",
        "colab": {
          "base_uri": "https://localhost:8080/"
        },
        "outputId": "e9e334e4-94b7-48af-934d-b806e45abcc8"
      },
      "outputs": [
        {
          "output_type": "stream",
          "name": "stdout",
          "text": [
            "GitHuibra prb\n"
          ]
        }
      ],
      "source": [
        "print('GitHuibra prb')"
      ]
    }
  ]
}